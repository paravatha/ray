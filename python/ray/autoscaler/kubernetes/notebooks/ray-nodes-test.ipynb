{
 "cells": [
  {
   "cell_type": "code",
   "execution_count": null,
   "metadata": {},
   "outputs": [
    {
     "name": "stderr",
     "output_type": "stream",
     "text": [
      "2021-01-11 00:07:13,225\tINFO worker.py:656 -- Connecting to existing Ray cluster at address: 35.239.163.218:6379\n"
     ]
    }
   ],
   "source": [
    "from collections import Counter\n",
    "import os\n",
    "import sys\n",
    "import time\n",
    "import ray\n",
    "\n",
    "#Disconnect first incase there is a connection\n",
    "ray.util.disconnect()\n",
    "#Connect via k8s service\n",
    "ray.util.connect('rayhead-service:10001')\n",
    "\n",
    "@ray.remote\n",
    "def gethostname(x):\n",
    "    import platform\n",
    "    import time\n",
    "    time.sleep(0.01)\n",
    "    return x + (platform.node(), )\n",
    "\n",
    "\n",
    "def wait_for_nodes(expected):\n",
    "    # Wait for all nodes to join the cluster.\n",
    "    while True:\n",
    "        num_nodes = len(ray.nodes())\n",
    "        if num_nodes < expected:\n",
    "            print(\"{} nodes have joined so far, waiting for {} more.\".format(\n",
    "                num_nodes, expected - num_nodes))\n",
    "            sys.stdout.flush()\n",
    "            time.sleep(1)\n",
    "        else:\n",
    "            break\n",
    "\n",
    "\n",
    "def main():\n",
    "    wait_for_nodes(2)\n",
    "\n",
    "    # Check that objects can be transferred from each node to each other node.\n",
    "    for i in range(10):\n",
    "        print(\"Iteration {}\".format(i))\n",
    "        results = [\n",
    "            gethostname.remote(gethostname.remote(())) for _ in range(100)\n",
    "        ]\n",
    "        print(Counter(ray.get(results)))\n",
    "        sys.stdout.flush()\n",
    "\n",
    "    print(\"Success!\")\n",
    "    sys.stdout.flush()\n",
    "\n",
    "\n",
    "if __name__ == \"__main__\":\n",
    "    main()\n"
   ]
  },
  {
   "cell_type": "code",
   "execution_count": null,
   "metadata": {},
   "outputs": [],
   "source": []
  }
 ],
 "metadata": {
  "kernelspec": {
   "display_name": "Python 3",
   "language": "python",
   "name": "python3"
  },
  "language_info": {
   "codemirror_mode": {
    "name": "ipython",
    "version": 3
   },
   "file_extension": ".py",
   "mimetype": "text/x-python",
   "name": "python",
   "nbconvert_exporter": "python",
   "pygments_lexer": "ipython3",
   "version": "3.8.2"
  }
 },
 "nbformat": 4,
 "nbformat_minor": 4
}