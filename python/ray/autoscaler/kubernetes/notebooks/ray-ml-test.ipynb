{
 "cells": [
  {
   "cell_type": "code",
   "execution_count": null,
   "metadata": {},
   "outputs": [
    {
     "name": "stderr",
     "output_type": "stream",
     "text": [
      "2021-01-11 00:07:13,225\tINFO worker.py:656 -- Connecting to existing Ray cluster at address: 35.239.163.218:6379\n"
     ]
    }
   ],
   "source": [
    "import os\n",
    "import ray\n",
    "import ray.util\n",
    "from collections import Counter\n",
    "import platform\n",
    "import time\n",
    "\n",
    "#Disconnect first incase there is a connection\n",
    "ray.util.disconnect()\n",
    "#Connect via k8s service\n",
    "ray.util.connect('rayhead-service:10001')\n",
    "\n",
    "@ray.remote\n",
    "def f(x):\n",
    "    time.sleep(0.01)\n",
    "    return x + (platform.node(), )\n",
    "%time Counter(ray.get([f.remote(()) for _ in range(1000)]))"
   ]
  },
  {
   "cell_type": "code",
   "execution_count": null,
   "metadata": {},
   "outputs": [],
   "source": []
  }
 ],
 "metadata": {
  "kernelspec": {
   "display_name": "Python 3",
   "language": "python",
   "name": "python3"
  },
  "language_info": {
   "codemirror_mode": {
    "name": "ipython",
    "version": 3
   },
   "file_extension": ".py",
   "mimetype": "text/x-python",
   "name": "python",
   "nbconvert_exporter": "python",
   "pygments_lexer": "ipython3",
   "version": "3.8.2"
  }
 },
 "nbformat": 4,
 "nbformat_minor": 4
}